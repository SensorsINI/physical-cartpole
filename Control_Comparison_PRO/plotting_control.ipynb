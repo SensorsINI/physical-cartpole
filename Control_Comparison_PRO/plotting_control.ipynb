{
 "cells": [
  {
   "metadata": {
    "ExecuteTime": {
     "end_time": "2024-11-19T10:02:47.613585Z",
     "start_time": "2024-11-19T10:02:47.611611Z"
    }
   },
   "cell_type": "code",
   "source": "",
   "id": "9a4b8dffeab57543",
   "outputs": [],
   "execution_count": null
  },
  {
   "cell_type": "code",
   "id": "b1bd5de8db0e9145",
   "metadata": {
    "ExecuteTime": {
     "end_time": "2024-11-19T10:02:47.680222Z",
     "start_time": "2024-11-19T10:02:47.627144Z"
    }
   },
   "source": [
    "import pandas as pd\n",
    "import numpy as np\n",
    "import plotly.graph_objs as go\n",
    "from plotly.subplots import make_subplots\n",
    "import ipywidgets as widgets\n",
    "from IPython.display import display, clear_output\n",
    "\n",
    "# 1. Load 'cardinal_test_1.csv' and extract features\n",
    "df_main = pd.read_csv('./Control_Comparison_PRO/cardinal_test_1.csv', comment='#')\n",
    "\n",
    "# 2. Load 'Q_calculated_integrated' from 'cardinal_test_1_1.csv' to 'cardinal_test_1_8.csv'\n",
    "integrated_files = [f'./Control_Comparison_PRO/cardinal_test_1_{i}.csv' for i in range(1, 9)]\n",
    "df_integrated_list = [pd.read_csv(f, comment='#') for f in integrated_files]\n",
    "\n",
    "# Extract 'time' and 'Q_calculated_integrated' from each file\n",
    "time_integrated = df_integrated_list[0]['time']  # Assuming all have the same time column\n",
    "Q_integrated_all = np.array([df['Q_calculated_integrated'].values for df in df_integrated_list])\n",
    "\n",
    "# Compute average and standard deviation\n",
    "Q_integrated_mean = Q_integrated_all.mean(axis=0)\n",
    "Q_integrated_std = Q_integrated_all.std(axis=0)\n",
    "\n",
    "# 3. Define feature descriptions (improved style)\n",
    "feature_descriptions = {\n",
    "    'Q_calculated': 'Control signal calculated by the controller during the experiment with correct parameters (pole mass 15g, pole length 5cm).',\n",
    "    'Q_calculated_large_parameters': 'Control signal from MPC assuming incorrect parameters (pole mass 150g, pole length 80cm).',\n",
    "    'Q_calculated_gru_adaptive_2': 'Control signal from a GRU network trained to compute control signals based on the past trajectory with current parameters.',\n",
    "    'Q_calculated_dense': 'Control signal from a dense neural network trained on the same dataset.',\n",
    "    'Q_calculated_gru_memoryless': 'Control signal from a GRU network trained to imitate an MPC with random parameter realization at each point.',\n",
    "    'Q_calculated_integrated_all': 'All 8 traces of Q_calculated_integrated from Monte Carlo simulations.',\n",
    "    'Q_calculated_integrated_mean': 'Mean of Q_calculated_integrated from Monte Carlo simulations.',\n",
    "    'Q_calculated_integrated_confidence': 'Mean of Q_calculated_integrated with ±3σ confidence intervals from Monte Carlo simulations.'\n",
    "}\n",
    "\n",
    "# 4. Create interactive widgets for feature selection\n",
    "# List of features from 'cardinal_test_1.csv' to plot\n",
    "main_features = [\n",
    "    'Q_calculated',\n",
    "    'Q_calculated_large_parameters',\n",
    "    'Q_calculated_gru_adaptive_2',\n",
    "    'Q_calculated_dense',\n",
    "    'Q_calculated_gru_memoryless'\n",
    "]\n",
    "\n",
    "# Options for 'Q_calculated_integrated'\n",
    "integrated_options = [\n",
    "    'Q_calculated_integrated_all',\n",
    "    'Q_calculated_integrated_mean',\n",
    "    'Q_calculated_integrated_confidence'\n",
    "]\n",
    "\n",
    "# Combine all features for selection\n",
    "all_features = main_features + integrated_options\n",
    "\n",
    "# Create checkboxes for each feature\n",
    "feature_checkboxes = [widgets.Checkbox(value=False, description=feat) for feat in all_features]\n",
    "\n",
    "# Arrange checkboxes in a vertical box\n",
    "checkboxes = widgets.VBox(feature_checkboxes)\n",
    "\n",
    "# Output areas\n",
    "plot_output = widgets.Output()\n",
    "info_output = widgets.Output()\n",
    "\n",
    "# 5. Define the update function\n",
    "def update_plot(change):\n",
    "    with plot_output:\n",
    "        clear_output(wait=True)\n",
    "        selected_features = [cb.description for cb in feature_checkboxes if cb.value]\n",
    "        \n",
    "        if not selected_features:\n",
    "            print(\"No features selected. Please select at least one feature to plot.\")\n",
    "            return\n",
    "        \n",
    "        # Create subplots with secondary y-axis for subplot 2\n",
    "        fig = make_subplots(\n",
    "            rows=3, cols=1, shared_xaxes=True,\n",
    "            row_heights=[0.5, 0.25, 0.25],\n",
    "            vertical_spacing=0.05,\n",
    "            specs=[[{}],\n",
    "                   [{\"secondary_y\": True}],\n",
    "                   [{}]],\n",
    "            subplot_titles=(\"Control Signals\", \"Target Position & Equilibrium\", \"Angle (degrees)\")\n",
    "        )\n",
    "        \n",
    "        # Main plot (control signals), clip features to [-1, 1]\n",
    "        for feature in selected_features:\n",
    "            if feature in main_features:\n",
    "                y_values = np.clip(df_main[feature], -1, 1)\n",
    "                fig.add_trace(\n",
    "                    go.Scatter(\n",
    "                        x=df_main['time'], y=y_values, name=feature,\n",
    "                        legendgroup='group1', legendgrouptitle_text='Control Signals'\n",
    "                    ),\n",
    "                    row=1, col=1\n",
    "                )\n",
    "            elif feature == 'Q_calculated_integrated_all':\n",
    "                # Plot all 8 traces, clipped to [-1, 1]\n",
    "                for i in range(8):\n",
    "                    y_values = np.clip(Q_integrated_all[i], -1, 1)\n",
    "                    fig.add_trace(\n",
    "                        go.Scatter(\n",
    "                            x=time_integrated, y=y_values, name=f'Trace {i+1}', opacity=0.5,\n",
    "                            legendgroup='group1', legendgrouptitle_text='Control Signals'\n",
    "                        ),\n",
    "                        row=1, col=1\n",
    "                    )\n",
    "            elif feature == 'Q_calculated_integrated_mean':\n",
    "                y_values = np.clip(Q_integrated_mean, -1, 1)\n",
    "                fig.add_trace(\n",
    "                    go.Scatter(\n",
    "                        x=time_integrated, y=y_values, name='Integrated Mean', line=dict(color='black'),\n",
    "                        legendgroup='group1', legendgrouptitle_text='Control Signals'\n",
    "                    ),\n",
    "                    row=1, col=1\n",
    "                )\n",
    "            elif feature == 'Q_calculated_integrated_confidence':\n",
    "                y_mean = np.clip(Q_integrated_mean, -1, 1)\n",
    "                y_upper = np.clip(Q_integrated_mean + 3 * Q_integrated_std, -1, 1)\n",
    "                y_lower = np.clip(Q_integrated_mean - 3 * Q_integrated_std, -1, 1)\n",
    "                fig.add_trace(\n",
    "                    go.Scatter(\n",
    "                        x=time_integrated, y=y_mean, name='Integrated Mean', line=dict(color='black'),\n",
    "                        legendgroup='group1', legendgrouptitle_text='Control Signals'\n",
    "                    ),\n",
    "                    row=1, col=1\n",
    "                )\n",
    "                fig.add_trace(\n",
    "                    go.Scatter(\n",
    "                        x=np.concatenate([time_integrated, time_integrated[::-1]]),\n",
    "                        y=np.concatenate([y_upper, y_lower[::-1]]),\n",
    "                        fill='toself',\n",
    "                        fillcolor='rgba(128, 128, 128, 0.2)',\n",
    "                        line=dict(color='rgba(255,255,255,0)'),\n",
    "                        hoverinfo=\"skip\",\n",
    "                        showlegend=True,\n",
    "                        name='±3σ Confidence Interval',\n",
    "                        legendgroup='group1', legendgrouptitle_text='Control Signals'\n",
    "                    ),\n",
    "                    row=1, col=1\n",
    "                )\n",
    "        \n",
    "        fig.update_yaxes(title_text='Control Signal', row=1, col=1)\n",
    "        \n",
    "        # Subplot 2: 'target_position' (converted to cm) and 'target_equilibrium', separate y-axes\n",
    "        # Left y-axis: 'target_position' (converted to cm)\n",
    "        fig.add_trace(\n",
    "            go.Scatter(\n",
    "                x=df_main['time'],\n",
    "                y=df_main['target_position'] * 100,  # Convert meters to centimeters\n",
    "                name='Target Position (cm)',\n",
    "                marker_color='blue',\n",
    "                legendgroup='group2', legendgrouptitle_text='Target Position & Equilibrium'\n",
    "            ),\n",
    "            row=2, col=1, secondary_y=False\n",
    "        )\n",
    "        # Right y-axis: 'target_equilibrium'\n",
    "        fig.add_trace(\n",
    "            go.Scatter(\n",
    "                x=df_main['time'],\n",
    "                y=df_main['target_equilibrium'],\n",
    "                name='Target Equilibrium',\n",
    "                marker_color='red',\n",
    "                legendgroup='group2', legendgrouptitle_text='Target Position & Equilibrium'\n",
    "            ),\n",
    "            row=2, col=1, secondary_y=True\n",
    "        )\n",
    "        \n",
    "        fig.update_yaxes(title_text='Target Position (cm)', row=2, col=1, secondary_y=False)\n",
    "        fig.update_yaxes(title_text='Target Equilibrium', row=2, col=1, secondary_y=True)\n",
    "        \n",
    "        # Subplot 3: 'angle' in degrees\n",
    "        angle_degrees = np.degrees(df_main['angle'])\n",
    "        fig.add_trace(\n",
    "            go.Scatter(\n",
    "                x=df_main['time'], y=angle_degrees, name='Angle (deg)', marker_color='green',\n",
    "                legendgroup='group3', legendgrouptitle_text='Angle (degrees)'\n",
    "            ),\n",
    "            row=3, col=1\n",
    "        )\n",
    "        fig.update_yaxes(title_text='Angle (degrees)', row=3, col=1)\n",
    "        \n",
    "        # Update layout\n",
    "        fig.update_layout(\n",
    "            height=900,\n",
    "            xaxis3=dict(title='Time'),\n",
    "            hovermode='x unified',\n",
    "            showlegend=True,\n",
    "            legend_traceorder=\"grouped\",\n",
    "            legend_tracegroupgap=50,\n",
    "            legend=dict(\n",
    "                x=1.02,\n",
    "                y=1,\n",
    "                xanchor='left',\n",
    "                yanchor='top',\n",
    "                font=dict(size=10)\n",
    "            )\n",
    "        )\n",
    "        \n",
    "        fig.show()\n",
    "    \n",
    "    with info_output:\n",
    "        clear_output(wait=True)\n",
    "        for feature in selected_features:\n",
    "            description = feature_descriptions.get(feature, 'No description available.')\n",
    "            display(widgets.HTML(f\"<b>{feature}</b>: {description}<br>\"))\n",
    "\n",
    "\n",
    "# 6. Attach the update function to the checkboxes\n",
    "for cb in feature_checkboxes:\n",
    "    cb.observe(update_plot, names='value')\n",
    "\n",
    "# 7. Display the widgets\n",
    "display(widgets.HTML(\"<h2>Select Features to Plot:</h2>\"))\n",
    "display(checkboxes)\n",
    "display(plot_output)\n",
    "display(widgets.HTML(\"<h2>Feature Information:</h2>\"))\n",
    "display(info_output)\n",
    "\n",
    "# Initial plot\n",
    "update_plot(None)\n"
   ],
   "outputs": [
    {
     "data": {
      "text/plain": [
       "HTML(value='<h2>Select Features to Plot:</h2>')"
      ],
      "application/vnd.jupyter.widget-view+json": {
       "version_major": 2,
       "version_minor": 0,
       "model_id": "3237989d444244d494d7ad42566c378e"
      }
     },
     "metadata": {},
     "output_type": "display_data"
    },
    {
     "data": {
      "text/plain": [
       "VBox(children=(Checkbox(value=False, description='Q_calculated'), Checkbox(value=False, description='Q_calcula…"
      ],
      "application/vnd.jupyter.widget-view+json": {
       "version_major": 2,
       "version_minor": 0,
       "model_id": "39a0e012daf14513b336e2c924f7cc79"
      }
     },
     "metadata": {},
     "output_type": "display_data"
    },
    {
     "data": {
      "text/plain": [
       "Output()"
      ],
      "application/vnd.jupyter.widget-view+json": {
       "version_major": 2,
       "version_minor": 0,
       "model_id": "a20382bb362044159fec062cff20fb0a"
      }
     },
     "metadata": {},
     "output_type": "display_data"
    },
    {
     "data": {
      "text/plain": [
       "HTML(value='<h2>Feature Information:</h2>')"
      ],
      "application/vnd.jupyter.widget-view+json": {
       "version_major": 2,
       "version_minor": 0,
       "model_id": "6b328169e9ec437eb68abd6b89c17d92"
      }
     },
     "metadata": {},
     "output_type": "display_data"
    },
    {
     "data": {
      "text/plain": [
       "Output()"
      ],
      "application/vnd.jupyter.widget-view+json": {
       "version_major": 2,
       "version_minor": 0,
       "model_id": "013c26886a0c4f5e9275361e7d292adc"
      }
     },
     "metadata": {},
     "output_type": "display_data"
    }
   ],
   "execution_count": 31
  },
  {
   "cell_type": "code",
   "id": "5f2e0130-c401-4fb4-9fad-bdbb1104e9bd",
   "metadata": {},
   "source": [],
   "outputs": [],
   "execution_count": null
  }
 ],
 "metadata": {
  "kernelspec": {
   "display_name": "Python 3 (ipykernel)",
   "language": "python",
   "name": "python3"
  },
  "language_info": {
   "codemirror_mode": {
    "name": "ipython",
    "version": 3
   },
   "file_extension": ".py",
   "mimetype": "text/x-python",
   "name": "python",
   "nbconvert_exporter": "python",
   "pygments_lexer": "ipython3",
   "version": "3.9.18"
  }
 },
 "nbformat": 4,
 "nbformat_minor": 5
}
