{
 "cells": [
  {
   "cell_type": "code",
   "execution_count": null,
   "metadata": {},
   "outputs": [],
   "source": [
    "import numpy as np\n",
    "import os, sys\n",
    "import matplotlib.pyplot as plt\n",
    "plt.style.use([\"science\"])\n"
   ]
  },
  {
   "cell_type": "code",
   "execution_count": null,
   "metadata": {},
   "outputs": [],
   "source": [
    "os.chdir(\"..\")"
   ]
  },
  {
   "cell_type": "code",
   "execution_count": null,
   "metadata": {},
   "outputs": [],
   "source": [
    "sys.path.insert(0, os.path.abspath(\".\"))\n",
    "sys.path.insert(1, os.path.abspath(\"./CartPoleSimulation/\"))"
   ]
  },
  {
   "cell_type": "code",
   "execution_count": null,
   "metadata": {},
   "outputs": [],
   "source": [
    "sys.path"
   ]
  },
  {
   "cell_type": "code",
   "execution_count": null,
   "metadata": {},
   "outputs": [],
   "source": [
    "from CartPoleSimulation.CartPole.load import load_csv_recording"
   ]
  },
  {
   "cell_type": "code",
   "execution_count": null,
   "metadata": {},
   "outputs": [],
   "source": [
    "# p = load_csv_recording(\"ExperimentRecordings/CP_dist-adam-resamp2-tf-predictor_ODE_tf_2022-09-15_21-17-09_Swingup.csv\")\n",
    "# p = load_csv_recording(\"ExperimentRecordings/CP_dist-adam-resamp2-tf-predictor_ODE_tf_2022-09-15_21-17-28_balance.csv\")\n",
    "# p = load_csv_recording(\"ExperimentRecordings/CP_dist-adam-resamp2-tf-predictor_ODE_tf_2022-09-15_21-17-59_target_following.csv\")\n",
    "# p = load_csv_recording(\"ExperimentRecordings/CP_dist-adam-resamp2-tf-predictor_ODE_tf_2022-09-15_22-00-15_final.csv\")\n",
    "# p = load_csv_recording(\"ExperimentRecordings/RPGD Swingup 2.csv\")\n",
    "p = load_csv_recording(\"ExperimentRecordings/RPGD Dance.csv\")"
   ]
  },
  {
   "cell_type": "code",
   "execution_count": null,
   "metadata": {},
   "outputs": [],
   "source": [
    "fig, (ax1, ax2, ax3) = plt.subplots(nrows=3, ncols=1, figsize=(14, 8), sharex=True, dpi=300.0)\n",
    "ax1.grid(linestyle='--'), ax2.grid(linestyle='--'), ax3.grid(linestyle='--')\n",
    "x_range = np.arange(23, 1200)\n",
    "# x_range = np.arange(50, 780)\n",
    "sliced_data = p.iloc[x_range,:]\n",
    "pos_cm = 100*sliced_data[\"position\"].to_numpy()\n",
    "target_pos_cm = 100*sliced_data[\"target_position\"].to_numpy()\n",
    "angle_rad = sliced_data[\"angle\"].to_numpy()\n",
    "cmd_normed = sliced_data[\"Q\"].to_numpy()\n",
    "\n",
    "t_range_ms = sliced_data[\"time\"].to_numpy()\n",
    "t_range_ms -= t_range_ms[0]\n",
    "\n",
    "ax1.plot(t_range_ms, pos_cm, label=\"position\")\n",
    "ax1.plot(t_range_ms, target_pos_cm, \"r--\", label=\"target position\")\n",
    "ax2.plot(t_range_ms, angle_rad, label=\"angle\")\n",
    "ax2.plot(t_range_ms, np.zeros_like(angle_rad), \"r--\", label=\"upright balance\")\n",
    "ax3.plot(t_range_ms, cmd_normed)\n",
    "\n",
    "ax1.legend(loc=\"upper right\", fontsize=\"x-small\")\n",
    "ax2.legend(loc=\"upper right\", fontsize=\"x-small\")\n",
    "\n",
    "fig.suptitle(\"Physical Cartpole Recording: Dance Mode\")\n",
    "ax3.set_xlabel(\"time (s)\")\n",
    "ax1.set_ylabel(\"position (cm)\")\n",
    "ax2.set_ylabel(\"angle (rad)\")\n",
    "ax3.set_ylabel(r\"control $u_k$\")\n",
    "\n",
    "fig.align_ylabels()\n",
    "fig.tight_layout(pad=1.0)"
   ]
  },
  {
   "cell_type": "code",
   "execution_count": null,
   "metadata": {},
   "outputs": [],
   "source": []
  }
 ],
 "metadata": {
  "kernelspec": {
   "display_name": ".env",
   "language": "python",
   "name": "python3"
  },
  "language_info": {
   "codemirror_mode": {
    "name": "ipython",
    "version": 3
   },
   "file_extension": ".py",
   "mimetype": "text/x-python",
   "name": "python",
   "nbconvert_exporter": "python",
   "pygments_lexer": "ipython3",
   "version": "3.10.7"
  },
  "orig_nbformat": 4,
  "vscode": {
   "interpreter": {
    "hash": "382fb9b8e94086f09cfcaf9fcfc7ef9521e4cac3bba216f093bda12e1eb0c7df"
   }
  }
 },
 "nbformat": 4,
 "nbformat_minor": 2
}
